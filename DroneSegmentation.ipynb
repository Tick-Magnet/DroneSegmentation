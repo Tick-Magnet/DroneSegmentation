{
 "cells": [
  {
   "cell_type": "code",
   "execution_count": null,
   "id": "6de14a86-07ff-410b-b54c-17f95287c075",
   "metadata": {
    "tags": []
   },
   "outputs": [],
   "source": [
    "#Installs Needed\n",
    "#!pip install opencv-python\n",
    "#!pip install pillow"
   ]
  },
  {
   "cell_type": "code",
   "execution_count": null,
   "id": "b29515ec-314b-4229-b49e-3c5f34d21d18",
   "metadata": {
    "tags": []
   },
   "outputs": [],
   "source": [
    "import os\n",
    "from PIL import Image\n",
    "import numpy as np\n",
    "\n",
    "# Define the path to the folder containing the images\n",
    "image_folder = \"semantic_drone_dataset/training_set/images\"\n",
    "\n",
    "# Create an empty list to store the loaded images\n",
    "images = []"
   ]
  },
  {
   "cell_type": "code",
   "execution_count": null,
   "id": "ee395e5c-f17f-43d9-ac4e-ca5aca6ed345",
   "metadata": {},
   "outputs": [],
   "source": [
    "# Loop through the files in the folder\n",
    "for filename in os.listdir(image_folder):\n",
    "    if filename.endswith(\".jpg\"): \n",
    "        image_path = os.path.join(image_folder, filename)\n",
    "        image = Image.open(image_path)\n",
    "        \n",
    "        # Convert the image to a NumPy array and append it to the list\n",
    "        image_array = np.array(image)\n",
    "        images.append(image_array)\n",
    "\n",
    "# 'images' now contains NumPy arrays of all the images in the folder"
   ]
  },
  {
   "cell_type": "code",
   "execution_count": null,
   "id": "689acc52-302f-4cde-a068-2579e0ca3427",
   "metadata": {},
   "outputs": [],
   "source": [
    "import matplotlib.pyplot as plt\n",
    "\n",
    "# Display the first image\n",
    "if images:\n",
    "    plt.imshow(images[0])\n",
    "    plt.axis('off')  # Remove axis labels\n",
    "    plt.show()"
   ]
  },
  {
   "cell_type": "code",
   "execution_count": 6,
   "id": "a355fc23-56fb-468f-8c1a-3f53137b10a8",
   "metadata": {
    "tags": []
   },
   "outputs": [
    {
     "data": {
      "text/plain": [
       "([(0, 0, 0), (128, 64, 128), (130, 76, 0), (0, 102, 0), (112, 103, 87)], [])"
      ]
     },
     "execution_count": 6,
     "metadata": {},
     "output_type": "execute_result"
    }
   ],
   "source": [
    "# Import necessary libraries\n",
    "import numpy as np\n",
    "import matplotlib.pyplot as plt\n",
    "import cv2\n",
    "import os\n",
    "import pandas as pd\n",
    "import tensorflow as tf\n",
    "from tensorflow import keras\n",
    "from tensorflow.keras import layers\n",
    "\n",
    "# Define the paths to your dataset\n",
    "image_dir = 'semantic_drone_dataset/training_set/images'\n",
    "label_dir = 'semantic_drone_dataset/training_set/gt/semantic/label_images'\n",
    "\n",
    "# Load class definitions from the class_dict.csv\n",
    "class_df = pd.read_csv('semantic_drone_dataset/training_set/gt/semantic/class_dict.csv', index_col=False, skipinitialspace=True)\n",
    "\n",
    "# Map class names to RGB values\n",
    "class_dict = {tuple(row[['r', 'g', 'b']].values): row['name'] for _, row in class_df.iterrows()}\n",
    "\n",
    "label_codes = []\n",
    "label_names = [class_dict[rgb] for rgb in label_codes]\n",
    "\n",
    "r = np.asarray(class_df.r)\n",
    "g = np.asarray(class_df.g)\n",
    "b = np.asarray(class_df.b)\n",
    "\n",
    "for i in range(len(class_dict)):\n",
    "    label_codes.append(tuple([r[i], g[i], b[i]]))\n",
    "    \n",
    "label_codes[:5], label_names[:5]"
   ]
  },
  {
   "cell_type": "code",
   "execution_count": null,
   "id": "4b8e6b17-6bc8-4b5e-b765-aada300ad463",
   "metadata": {
    "tags": []
   },
   "outputs": [],
   "source": [
    "print(\"Done\")"
   ]
  },
  {
   "cell_type": "code",
   "execution_count": null,
   "id": "78106ad3-eaef-4d13-9822-c66e3f5d1b1b",
   "metadata": {},
   "outputs": [],
   "source": []
  }
 ],
 "metadata": {
  "kernelspec": {
   "display_name": "Python 3 (ipykernel)",
   "language": "python",
   "name": "python3"
  },
  "language_info": {
   "codemirror_mode": {
    "name": "ipython",
    "version": 3
   },
   "file_extension": ".py",
   "mimetype": "text/x-python",
   "name": "python",
   "nbconvert_exporter": "python",
   "pygments_lexer": "ipython3",
   "version": "3.11.5"
  }
 },
 "nbformat": 4,
 "nbformat_minor": 5
}
